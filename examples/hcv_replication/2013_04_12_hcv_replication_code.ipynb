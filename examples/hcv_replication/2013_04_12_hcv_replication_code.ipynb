{
 "metadata": {
  "name": "2013_04_12_hcv_replication_code"
 },
 "nbformat": 3,
 "nbformat_minor": 0,
 "worksheets": [
  {
   "cells": [
    {
     "cell_type": "markdown",
     "metadata": {},
     "source": [
      "# Replication code for regional estimates of HCV prevalence\n",
      "\n",
      "From Mohd Hanafiah K, Groeger J, Flaxman AD, Wiersma ST. Global epidemiology of hepatitis C virus infection: New estimates of age-specific antibody to HCV seroprevalence. Hepatology. 2013 Apr;57(4):1333-42. doi: 10.1002/hep.26141. Epub 2013 Feb 4.\n",
      "\n",
      "http://www.ncbi.nlm.nih.gov/pubmed/23172780"
     ]
    },
    {
     "cell_type": "code",
     "collapsed": false,
     "input": [
      "# This Python code will reproduce predictions \n",
      "# for the following region/sex/year:\n",
      "predict_region = 'north_africa_middle_east'\n",
      "predict_sex = 'male'\n",
      "predict_year = 2005"
     ],
     "language": "python",
     "metadata": {},
     "outputs": [],
     "prompt_number": 1
    },
    {
     "cell_type": "code",
     "collapsed": false,
     "input": [
      "# import dismod code\n",
      "%cd ~/gbd_dev/gbd\n",
      "import dismod3"
     ],
     "language": "python",
     "metadata": {},
     "outputs": [
      {
       "output_type": "stream",
       "stream": "stdout",
       "text": [
        "/snfs2/HOME/abie/gbd_dev/gbd\n"
       ]
      },
      {
       "output_type": "stream",
       "stream": "stderr",
       "text": [
        "/snfs2/HOME/abie/ENV_dismod/lib/python2.6/site-packages/twill/other_packages/_mechanize_dist/_auth.py:14: DeprecationWarning: the md5 module is deprecated; use hashlib instead\n",
        "  import re, base64, urlparse, posixpath, md5, sha, sys, copy\n",
        "/snfs2/HOME/abie/ENV_dismod/lib/python2.6/site-packages/twill/other_packages/_mechanize_dist/_auth.py:14: DeprecationWarning: the sha module is deprecated; use the hashlib module instead\n",
        "  import re, base64, urlparse, posixpath, md5, sha, sys, copy\n"
       ]
      }
     ],
     "prompt_number": 2
    },
    {
     "cell_type": "code",
     "collapsed": false,
     "input": [
      "# load HCV model data\n",
      "model_path = '/home/j/Project/dismod/hcv_replication/'\n",
      "dm1 = dismod3.data.load(model_path)"
     ],
     "language": "python",
     "metadata": {},
     "outputs": [],
     "prompt_number": 3
    },
    {
     "cell_type": "code",
     "collapsed": false,
     "input": [
      "# Fit stage-1 model with heterogeneity prior set to \"Very\"\n",
      "dm1.parameters['p']['heterogeneity'] = 'Very'\n",
      "dm1.vars += dismod3.ism.age_specific_rate(dm1, 'p')\n",
      "%time dismod3.fit.fit_asr(dm1, 'p', iter=20000, burn=10000, thin=10)  # expect this to take around 1 hour"
     ],
     "language": "python",
     "metadata": {},
     "outputs": [
      {
       "output_type": "stream",
       "stream": "stdout",
       "text": [
        "adding smoothing of 0.5\n",
        "using stored FE for"
       ]
      },
      {
       "output_type": "stream",
       "stream": "stdout",
       "text": [
        " beta_p_x_sex x_sex {'mu': 0.0, 'sigma': 0.0001, 'dist': 'Normal'}\n",
        "finding initial values"
       ]
      },
      {
       "output_type": "stream",
       "stream": "stdout",
       "text": [
        " ."
       ]
      },
      {
       "output_type": "stream",
       "stream": "stdout",
       "text": [
        " ."
       ]
      },
      {
       "output_type": "stream",
       "stream": "stdout",
       "text": [
        " ."
       ]
      },
      {
       "output_type": "stream",
       "stream": "stdout",
       "text": [
        " \n",
        "finding MAP estimate"
       ]
      },
      {
       "output_type": "stream",
       "stream": "stdout",
       "text": [
        " \n",
        "finding step covariances estimate"
       ]
      },
      {
       "output_type": "stream",
       "stream": "stdout",
       "text": [
        " \n",
        "resetting initial values (1)"
       ]
      },
      {
       "output_type": "stream",
       "stream": "stdout",
       "text": [
        " ."
       ]
      },
      {
       "output_type": "stream",
       "stream": "stdout",
       "text": [
        " ."
       ]
      },
      {
       "output_type": "stream",
       "stream": "stdout",
       "text": [
        " ."
       ]
      },
      {
       "output_type": "stream",
       "stream": "stdout",
       "text": [
        " \n",
        "resetting initial values (2)\n"
       ]
      },
      {
       "output_type": "stream",
       "stream": "stdout",
       "text": [
        "mare: 0.77\n",
        "sampling from posterior\n"
       ]
      },
      {
       "output_type": "stream",
       "stream": "stdout",
       "text": [
        "CPU times: user 1h 3min 19s, sys: 389 ms, total: 1h 3min 19s\n",
        "Wall time: 1h 3min 31s\n"
       ]
      },
      {
       "output_type": "pyout",
       "prompt_number": 4,
       "text": [
        "(<pymc.NormalApproximation.MAP at 0x5acae50>, <pymc.MCMC.MCMC at 0x5f006d0>)"
       ]
      }
     ],
     "prompt_number": 4
    },
    {
     "cell_type": "code",
     "collapsed": false,
     "input": [
      "# Make stage-1 prediction (to use as empirical prior in stage 2)\n",
      "pred1 = dismod3.covariates.predict_for(dm1, dm1.parameters['p'], 'all', 'total', 'all',\n",
      "                                      predict_region, predict_sex, predict_year, False, dm1.vars['p'], 0, 1)"
     ],
     "language": "python",
     "metadata": {},
     "outputs": [],
     "prompt_number": 5
    },
    {
     "cell_type": "code",
     "collapsed": false,
     "input": [
      "# re-load HCV model, filter to include only relevant data\n",
      "dm = dismod3.data.load(model_path)\n",
      "if predict_year == 2005:\n",
      "    dm.keep(areas=[predict_region], sexes=['total', predict_sex], start_year=1997)\n",
      "elif predict_year == 1990:\n",
      "    dm.keep(areas=[predict_region], sexes=['total', predict_sex], end_year=1997)\n",
      "else:\n",
      "    raise Error, 'predict_year must equal 1990 or 2005'"
     ],
     "language": "python",
     "metadata": {},
     "outputs": [
      {
       "output_type": "stream",
       "stream": "stdout",
       "text": [
        "kept 80 rows of data\n"
       ]
      }
     ],
     "prompt_number": 6
    },
    {
     "cell_type": "code",
     "collapsed": false,
     "input": [
      "# set empirical priors based on results of stage-1 model\n",
      "t = 'p'\n",
      "for n, col in zip(dm1.vars[t]['beta'], dm1.vars[t]['X'].columns):\n",
      "    stats = n.stats()\n",
      "    dm.parameters[t]['fixed_effects'][col] = dict(dist='Constant', mu=stats['mean'], sigma=stats['standard deviation'])\n",
      "\n",
      "for n, col in zip(dm1.vars[t]['alpha'], dm1.vars[t]['U'].columns):\n",
      "    stats = n.stats()\n",
      "    dm.parameters[t]['random_effects'][col] = dict(dist='Constant', mu=stats['mean'], sigma=stats['standard deviation'])\n",
      "\n",
      "for n in dm1.vars[t]['sigma_alpha']:\n",
      "    stats = n.stats()\n",
      "    dm.parameters[t]['random_effects'][n.__name__] = dict(dist='TruncatedNormal', mu=stats['mean'], sigma=stats['standard deviation'], lower=.01, upper=.5)\n",
      "\n",
      "# shift random effects to make REs for observed children of predict area have mean zero\n",
      "re_mean = mean([dm.parameters[t]['random_effects'][area]['mu'] \\\n",
      "                   for area in dm.hierarchy.neighbors(predict_region) \\\n",
      "                   if area in dm.parameters[t]['random_effects']])\n",
      "for area in dm.hierarchy.neighbors(predict_region):\n",
      "    if area in dm.parameters[t]['random_effects']:\n",
      "        dm.parameters[t]['random_effects'][area]['mu'] -= re_mean"
     ],
     "language": "python",
     "metadata": {},
     "outputs": [],
     "prompt_number": 7
    },
    {
     "cell_type": "code",
     "collapsed": false,
     "input": [
      "# calculate mean and standard deviation for age-pattern\n",
      "emp_prior_mean = pred1.mean(0)\n",
      "\n",
      "N,A = pred1.shape  # N samples, for A age groups\n",
      "delta_trace = transpose([exp(dm1.vars['p']['eta'].trace()) for _ in range(A)])  # shape delta matrix to match prediction matrix\n",
      "emp_prior_std = sqrt(pred1.var(0) + (pred1**2 / delta_trace).mean(0))"
     ],
     "language": "python",
     "metadata": {},
     "outputs": [],
     "prompt_number": 8
    },
    {
     "cell_type": "code",
     "collapsed": false,
     "input": [
      "# Fit stage-2 model\n",
      "dm.vars += dismod3.ism.age_specific_rate(dm, 'p', predict_region, predict_sex, predict_year, mu_age_parent=emp_prior_mean, sigma_age_parent=emp_prior_std)\n",
      "%time dismod3.fit.fit_asr(dm, 'p', iter=20000, burn=10000, thin=10)"
     ],
     "language": "python",
     "metadata": {},
     "outputs": [
      {
       "output_type": "stream",
       "stream": "stdout",
       "text": [
        "adding smoothing of 0.5\n",
        "using stored RE hyperprior for sigma_alpha_p_0 {'mu': 0.07429639096995469, 'upper': 0.5, 'lower': 0.01, 'sigma': 0.017890694072838779, 'dist': 'TruncatedNormal'}\n",
        "using stored RE hyperprior for sigma_alpha_p_1 {'mu': 0.11936499222336693, 'upper': 0.5, 'lower': 0.01, 'sigma': 0.026874488036908933, 'dist': 'TruncatedNormal'}\n",
        "using stored RE hyperprior for sigma_alpha_p_2 {'mu': 0.092870880643956738, 'upper': 0.5, 'lower': 0.01, 'sigma': 0.027096878982992421, 'dist': 'TruncatedNormal'}\n",
        "using stored RE hyperprior for sigma_alpha_p_3 {'mu': 0.28211270937091426, 'upper': 0.5, 'lower': 0.01, 'sigma': 0.023170492343852978, 'dist': 'TruncatedNormal'}\n",
        "using stored RE hyperprior for sigma_alpha_p_4 {'mu': 0.07368140224411128, 'upper': 0.5, 'lower': 0.01, 'sigma': 0.017893101250948805, 'dist': 'TruncatedNormal'}\n",
        "using stored RE for alpha_p_EGY {'mu': 1.4752528059280718, 'sigma': 0.19811090729731026, 'dist': 'Constant'}\n",
        "using stored RE for alpha_p_JOR {'mu': -0.26708035834783195, 'sigma': 0.26974538353064298, 'dist': 'Constant'}\n",
        "using stored RE for alpha_p_SAU {'mu': -0.65999754125930654, 'sigma': 0.24221179976976506, 'dist': 'Constant'}\n",
        "using stored RE for alpha_p_IRN {'mu': -0.041969292278779984, 'sigma': 0.26627592691264551, 'dist': 'Constant'}\n",
        "using stored RE for alpha_p_YEM {'mu': -0.02773736806959496, 'sigma': 0.25028357682247176, 'dist': 'Constant'}\n",
        "using stored RE for alpha_p_TUR {'mu': -0.21574839097806858, 'sigma': 0.22789349737778439, 'dist': 'Constant'}\n",
        "using stored RE for alpha_p_SYR {'mu': -0.10709806822558002, 'sigma': 0.27946977317869198, 'dist': 'Constant'}\n",
        "using stored FE for beta_p_x_sex x_sex {'mu': 2.1254978514843765e-05, 'sigma': 0.0010039884193041384, 'dist': 'Constant'}\n",
        "finding initial values"
       ]
      },
      {
       "output_type": "stream",
       "stream": "stdout",
       "text": [
        " ."
       ]
      },
      {
       "output_type": "stream",
       "stream": "stdout",
       "text": [
        " ."
       ]
      },
      {
       "output_type": "stream",
       "stream": "stdout",
       "text": [
        " ."
       ]
      },
      {
       "output_type": "stream",
       "stream": "stdout",
       "text": [
        " \n",
        "finding MAP estimate"
       ]
      },
      {
       "output_type": "stream",
       "stream": "stdout",
       "text": [
        " \n",
        "finding step covariances estimate"
       ]
      },
      {
       "output_type": "stream",
       "stream": "stdout",
       "text": [
        " \n",
        "resetting initial values (1)"
       ]
      },
      {
       "output_type": "stream",
       "stream": "stdout",
       "text": [
        " ."
       ]
      },
      {
       "output_type": "stream",
       "stream": "stdout",
       "text": [
        " ."
       ]
      },
      {
       "output_type": "stream",
       "stream": "stdout",
       "text": [
        " ."
       ]
      },
      {
       "output_type": "stream",
       "stream": "stdout",
       "text": [
        " \n",
        "resetting initial values (2)\n"
       ]
      },
      {
       "output_type": "stream",
       "stream": "stdout",
       "text": [
        "mare: 0.48\n",
        "sampling from posterior\n"
       ]
      },
      {
       "output_type": "stream",
       "stream": "stdout",
       "text": [
        "CPU times: user 5min 50s, sys: 58 ms, total: 5min 50s\n",
        "Wall time: 5min 51s\n"
       ]
      },
      {
       "output_type": "pyout",
       "prompt_number": 9,
       "text": [
        "(<pymc.NormalApproximation.MAP at 0x5acacd0>, <pymc.MCMC.MCMC at 0x588eb90>)"
       ]
      }
     ],
     "prompt_number": 9
    },
    {
     "cell_type": "code",
     "collapsed": false,
     "input": [
      "pred = dismod3.covariates.predict_for(dm, dm.parameters['p'],\n",
      "                                      predict_region, predict_sex, predict_year,\n",
      "                                      predict_region, predict_sex, predict_year, True, dm.vars['p'], 0, 1)"
     ],
     "language": "python",
     "metadata": {},
     "outputs": [],
     "prompt_number": 10
    },
    {
     "cell_type": "code",
     "collapsed": false,
     "input": [
      "dismod3.graphics.plot_data_bars(dm.get_data('p'))\n",
      "import pymc as mc\n",
      "plot(transpose([mc.rnormal(arange(101), .5**-2) for _ in range(1000)]), transpose(pred), 'k,', alpha=.1)\n",
      "plot(pred.mean(0), color='w', linewidth=5)\n",
      "plot(pred.mean(0), color='k', linewidth=3, label='Re-run mean')\n",
      "legend()\n",
      "axis(xmin=-5, xmax=105, ymin=-.01)"
     ],
     "language": "python",
     "metadata": {},
     "outputs": [
      {
       "output_type": "pyout",
       "prompt_number": 14,
       "text": [
        "(-5, 105, -0.01, 0.60000000000000009)"
       ]
      },
      {
       "output_type": "display_data",
       "png": "[encoded data removed]",
       "text": [
        "<matplotlib.figure.Figure at 0x99f3d10>"
       ]
      }
     ],
     "prompt_number": 14
    },
    {
     "cell_type": "code",
     "collapsed": false,
     "input": [],
     "language": "python",
     "metadata": {},
     "outputs": [],
     "prompt_number": 13
    }
   ],
   "metadata": {}
  }
 ]
}